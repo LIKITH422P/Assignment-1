{
 "cells": [
  {
   "cell_type": "raw",
   "id": "cdd901be",
   "metadata": {},
   "source": [
    "Q1. What does an empty dictionary&#39;s code look like?\n",
    "Ans:  An empty dictionary is often represented by two empty curly brackets\n",
    "d = {} or d = dict()"
   ]
  },
  {
   "cell_type": "raw",
   "id": "2d22f860",
   "metadata": {},
   "source": [
    "2.what is the value of dictionary value with key 'foo' and the value 42 ?\n",
    "Ans: {'foo':42}"
   ]
  },
  {
   "cell_type": "raw",
   "id": "0c9b2df9",
   "metadata": {},
   "source": [
    "3.What is the most significant distinction between a dictionary and a list?\n",
    "Ans: Dictionaries are represented by {} where as listed are represented by []\n",
    "The Items stored in a dictionary are Unordered , while the items in a list are ordered."
   ]
  },
  {
   "cell_type": "raw",
   "id": "73b7001b",
   "metadata": {},
   "source": [
    "4.What happens if you try to access spam ['foo'] if spam is {'bar':100} ?\n",
    "Ans: we will get a keyError KeyError: 'foo'"
   ]
  },
  {
   "cell_type": "raw",
   "id": "79b19dc9",
   "metadata": {},
   "source": [
    "5.if a dictionary is stored in spam,what is the difference between the expressions 'cat' in spam and 'cat' in spam.keys() ?\n",
    "Ans: There is no difference . The operator checks whether a value exits as a key in the dictionary or not"
   ]
  },
  {
   "cell_type": "raw",
   "id": "c66927d6",
   "metadata": {},
   "source": [
    "6.if a dictionary is stored in spam,what is the difference between the expressions 'cat' in spam and 'cat' in spam.values() ?\n",
    "Ans:'cat' in spam checks whether there is a 'cat' key in the dictionary, while 'cat' in spam.values() checks whether there is a value 'cat' for one of the keys in spam."
   ]
  },
  {
   "cell_type": "raw",
   "id": "db944f0b",
   "metadata": {},
   "source": [
    "7.what is a shortcut for the following code ?\n",
    "if 'color' not in spam:\n",
    "    spam['color'] ='black'\n",
    "\n",
    "Ans: spam.setdefault('color','black')"
   ]
  },
  {
   "cell_type": "raw",
   "id": "af22dca7",
   "metadata": {},
   "source": [
    "8.How do you 'pretty print' dictionary values using which modules and function ?\n",
    "Ans: we can pretty print a dictionary using three functions\n",
    "\n",
    " by using pprint() function of pprint module\n",
    "Note: pprint() function doesnot prettify nested dictionaries\n",
    "by using dumps() method of json module\n",
    "by using dumps() method of yaml module"
   ]
  },
  {
   "cell_type": "code",
   "execution_count": 9,
   "id": "35b8dfdf",
   "metadata": {},
   "outputs": [
    {
     "name": "stdout",
     "output_type": "stream",
     "text": [
      "printing using print() function\n",
      " [{'name': 'liki', 'age': '26', 'recedence': {'country': 'india', 'city': 'bangalore'}}, {'name': 'tanu', 'age': '24', 'residence': {'country': 'germany', 'city': 'hamburg'}}, {'name': 'mani', 'age': '48', 'residence': {'country': 'america', 'city': 'new york'}}, {'name': 'nagu', 'age': '58', 'residence': {'residence': 'india', 'city': 'delhi'}}]\n",
      "----------------------------------------------------------------------\n",
      "print using pprint function\n",
      "[{'age': '26',\n",
      "  'name': 'liki',\n",
      "  'recedence': {'city': 'bangalore', 'country': 'india'}},\n",
      " {'age': '24',\n",
      "  'name': 'tanu',\n",
      "  'residence': {'city': 'hamburg', 'country': 'germany'}},\n",
      " {'age': '48',\n",
      "  'name': 'mani',\n",
      "  'residence': {'city': 'new york', 'country': 'america'}},\n",
      " {'age': '58',\n",
      "  'name': 'nagu',\n",
      "  'residence': {'city': 'delhi', 'residence': 'india'}}]\n",
      "----------------------------------------------------------------------\n",
      "printing using dumps() method\n",
      " [\n",
      "    {\n",
      "        \"name\": \"liki\",\n",
      "        \"age\": \"26\",\n",
      "        \"recedence\": {\n",
      "            \"country\": \"india\",\n",
      "            \"city\": \"bangalore\"\n",
      "        }\n",
      "    },\n",
      "    {\n",
      "        \"name\": \"tanu\",\n",
      "        \"age\": \"24\",\n",
      "        \"residence\": {\n",
      "            \"country\": \"germany\",\n",
      "            \"city\": \"hamburg\"\n",
      "        }\n",
      "    },\n",
      "    {\n",
      "        \"name\": \"mani\",\n",
      "        \"age\": \"48\",\n",
      "        \"residence\": {\n",
      "            \"country\": \"america\",\n",
      "            \"city\": \"new york\"\n",
      "        }\n",
      "    },\n",
      "    {\n",
      "        \"name\": \"nagu\",\n",
      "        \"age\": \"58\",\n",
      "        \"residence\": {\n",
      "            \"residence\": \"india\",\n",
      "            \"city\": \"delhi\"\n",
      "        }\n",
      "    }\n",
      "]\n",
      "----------------------------------------------------------------------\n",
      "printing using dump() method\n",
      " - age: '26'\n",
      "  name: liki\n",
      "  recedence:\n",
      "    city: bangalore\n",
      "    country: india\n",
      "- age: '24'\n",
      "  name: tanu\n",
      "  residence:\n",
      "    city: hamburg\n",
      "    country: germany\n",
      "- age: '48'\n",
      "  name: mani\n",
      "  residence:\n",
      "    city: new york\n",
      "    country: america\n",
      "- age: '58'\n",
      "  name: nagu\n",
      "  residence:\n",
      "    city: delhi\n",
      "    residence: india\n",
      "\n"
     ]
    }
   ],
   "source": [
    "ndict=[{'name':'liki','age':'26', 'recedence':{'country':'india','city':'bangalore'}},\n",
    "      {'name':'tanu','age':'24','residence':{'country':'germany','city':'hamburg'}},\n",
    "      {'name':'mani','age':'48','residence':{'country':'america','city':'new york'}},\n",
    "      {'name':'nagu','age':'58','residence':{'residence':'india','city':'delhi'}}]\n",
    "print('printing using print() function\\n',ndict)\n",
    "print('-'*70)\n",
    "import pprint\n",
    "print('print using pprint function')\n",
    "pprint.pprint(ndict)\n",
    "print('-'*70)\n",
    "import json\n",
    "dump= json.dumps(ndict,indent=4)\n",
    "print('printing using dumps() method\\n', dump)\n",
    "print('-'*70)\n",
    "import yaml\n",
    "dump=yaml.dump(ndict)\n",
    "print('printing using dump() method\\n',dump)"
   ]
  }
 ],
 "metadata": {
  "kernelspec": {
   "display_name": "Python 3 (ipykernel)",
   "language": "python",
   "name": "python3"
  },
  "language_info": {
   "codemirror_mode": {
    "name": "ipython",
    "version": 3
   },
   "file_extension": ".py",
   "mimetype": "text/x-python",
   "name": "python",
   "nbconvert_exporter": "python",
   "pygments_lexer": "ipython3",
   "version": "3.9.7"
  }
 },
 "nbformat": 4,
 "nbformat_minor": 5
}
