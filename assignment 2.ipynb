{
 "cells": [
  {
   "cell_type": "raw",
   "id": "133147f1",
   "metadata": {},
   "source": [
    "Q1.What are the two values of the Boolean data type? How do you write them?\n",
    "ans. TRUE and FALSE, using capital T and F.\n"
   ]
  },
  {
   "cell_type": "code",
   "execution_count": 3,
   "id": "850c3962",
   "metadata": {},
   "outputs": [
    {
     "name": "stdout",
     "output_type": "stream",
     "text": [
      "True\n",
      "False\n"
     ]
    }
   ],
   "source": [
    "eg;\n",
    "a=True\n",
    "b=False\n",
    "print(a)\n",
    "print(b)"
   ]
  },
  {
   "cell_type": "raw",
   "id": "9b96a685",
   "metadata": {},
   "source": [
    "Q2.2. What are the three different types of Boolean operators?\n",
    "\n",
    "Ans: and, or, and not."
   ]
  },
  {
   "cell_type": "raw",
   "id": "1f9edf53",
   "metadata": {},
   "source": [
    "Q3. Make a list of each Boolean operator&#39;s truth tables (i.e. every possible combination of Boolean\n",
    "values for the operator and what it evaluate ).\n",
    "\n",
    "Ans: true and true is true.\n",
    "     true and false is false.\n",
    "     false and true is false.\n",
    "     false and false is false.\n",
    "     true or true is true.\n",
    "     true or false is true.\n",
    "     false or true is true.\n",
    "     false or false is false.\n",
    "     not true is false.\n",
    "     not false is true."
   ]
  },
  {
   "cell_type": "raw",
   "id": "607adde0",
   "metadata": {},
   "source": [
    "Q4. What are the values of the following expressions?\n",
    "(5 &gt; 4) and (3 == 5)\n",
    "not (5 &gt; 4)\n",
    "(5 &gt; 4) or (3 == 5)\n",
    "not ((5 &gt; 4) or (3 == 5))\n",
    "(True and True) and (True == False)\n",
    "(not False) or (not True)"
   ]
  },
  {
   "cell_type": "code",
   "execution_count": 4,
   "id": "9209b419",
   "metadata": {},
   "outputs": [
    {
     "name": "stdout",
     "output_type": "stream",
     "text": [
      "False\n"
     ]
    }
   ],
   "source": [
    "print((5>4) and (3==4))"
   ]
  },
  {
   "cell_type": "code",
   "execution_count": 5,
   "id": "10ddb680",
   "metadata": {},
   "outputs": [
    {
     "name": "stdout",
     "output_type": "stream",
     "text": [
      "False\n"
     ]
    }
   ],
   "source": [
    "print(not(5>4))"
   ]
  },
  {
   "cell_type": "code",
   "execution_count": 6,
   "id": "44975058",
   "metadata": {},
   "outputs": [
    {
     "name": "stdout",
     "output_type": "stream",
     "text": [
      "True\n"
     ]
    }
   ],
   "source": [
    "print((5>4)or (3==5))"
   ]
  },
  {
   "cell_type": "code",
   "execution_count": 13,
   "id": "1a500b31",
   "metadata": {},
   "outputs": [
    {
     "name": "stdout",
     "output_type": "stream",
     "text": [
      "False\n"
     ]
    }
   ],
   "source": [
    "print((True and True) and (True==False))"
   ]
  },
  {
   "cell_type": "code",
   "execution_count": 9,
   "id": "aa14d96f",
   "metadata": {},
   "outputs": [
    {
     "name": "stdout",
     "output_type": "stream",
     "text": [
      "True\n"
     ]
    }
   ],
   "source": [
    "print((not False)or (not True))"
   ]
  },
  {
   "cell_type": "raw",
   "id": "778167e0",
   "metadata": {},
   "source": [
    "Q5. What are the six comparison operators?\n",
    "\n",
    "ans: == , != , < , > , <= , =>"
   ]
  },
  {
   "cell_type": "raw",
   "id": "486f8fb1",
   "metadata": {},
   "source": [
    "Q6. How do you tell the difference between the equal to and assignment operators?Describe a\n",
    "condition and when you would use one.\n",
    "\n",
    "Ans:== is the equal to operator that compares two values and evaluates to a Boolean, while = is that assignment operator that stores a value in a variable."
   ]
  },
  {
   "cell_type": "code",
   "execution_count": 21,
   "id": "715cb209",
   "metadata": {},
   "outputs": [
    {
     "name": "stdout",
     "output_type": "stream",
     "text": [
      "True\n"
     ]
    }
   ],
   "source": [
    "a=4\n",
    "if a==4:\n",
    "    print(a==4)\n",
    "    "
   ]
  },
  {
   "cell_type": "raw",
   "id": "fdcadab7",
   "metadata": {},
   "source": [
    "Q7. Identify the three blocks in this code:\n",
    "spam = 0\n",
    "if spam == 10:\n",
    "print(&#39;eggs&#39;)\n",
    "if spam &gt; 5:\n",
    "print(&#39;bacon&#39;)\n",
    "else:|\n",
    "print(&#39;ham&#39;)\n",
    "print(&#39;spam&#39;)\n",
    "print(&#39;spam&#39;) "
   ]
  },
  {
   "cell_type": "code",
   "execution_count": 29,
   "id": "903541b5",
   "metadata": {},
   "outputs": [
    {
     "name": "stdout",
     "output_type": "stream",
     "text": [
      "ham\n",
      "spam\n",
      "spam\n"
     ]
    }
   ],
   "source": [
    "spam = 0\n",
    "if spam == 10:\n",
    "   print(\"eggs\")\n",
    "if spam > 5:\n",
    "   print(\"bacon\")\n",
    "else:\n",
    "   print(\"ham\")\n",
    "print(\"spam\")\n",
    "print(\"spam\")"
   ]
  },
  {
   "cell_type": "raw",
   "id": "f9044a58",
   "metadata": {},
   "source": [
    "Q8. Write code that prints Hello if 1 is stored in spam, prints Howdy if 2 is stored in spam, and prints\n",
    "Greetings! if anything else is stored in spam."
   ]
  },
  {
   "cell_type": "code",
   "execution_count": 37,
   "id": "e192c275",
   "metadata": {},
   "outputs": [],
   "source": [
    "def spam(spam):\n",
    "    if spam==1:\n",
    "        print(\"hello\")\n",
    "    elif spam==2:\n",
    "        print(\"howdy\")\n",
    "    else:\n",
    "        print(\"greetings!\")\n",
    "    "
   ]
  },
  {
   "cell_type": "code",
   "execution_count": 39,
   "id": "f4438b39",
   "metadata": {},
   "outputs": [
    {
     "name": "stdout",
     "output_type": "stream",
     "text": [
      "hello\n",
      "howdy\n",
      "greetings!\n"
     ]
    }
   ],
   "source": [
    "spam(1)\n",
    "spam(2)\n",
    "spam(3)"
   ]
  },
  {
   "cell_type": "raw",
   "id": "4391a91a",
   "metadata": {},
   "source": [
    "Q9.If your programme is stuck in an endless loop, what keys you’ll press?\n",
    "\n",
    "Ans: Press Ctrl-c to stop a program stuck in an infinite loop"
   ]
  },
  {
   "cell_type": "raw",
   "id": "2c0f7f28",
   "metadata": {},
   "source": [
    "Q10. How can you tell the difference between break and continue?\n",
    "\n",
    "Ans: The break statement will move the execution outside the loop if break condtion is satisfied. Whereas the continue\n",
    "    statement will move the execution to the start of the loop."
   ]
  },
  {
   "cell_type": "raw",
   "id": "2662c11c",
   "metadata": {},
   "source": [
    "Q11. In a for loop, what is the difference between range(10), range(0, 10), and range(0, 10, 1)?\n",
    "\n",
    "Ans: The Differences are as follows:\n",
    "1.The range(10) call range from 0 to 9 (but not include 10)\n",
    "2.The range (0,10) explicitly tells the loop to start at 0\n",
    "3.The range(0,10,1) explicitly tells the loop to increase the variable by 1 on each iteration"
   ]
  },
  {
   "cell_type": "raw",
   "id": "e43c29e0",
   "metadata": {},
   "source": [
    "Q12. Write a short program that prints the numbers 1 to 10 using a for loop. Then write an equivalent\n",
    "program that prints the numbers 1 to 10 using a while loop."
   ]
  },
  {
   "cell_type": "code",
   "execution_count": 42,
   "id": "464866e7",
   "metadata": {},
   "outputs": [
    {
     "name": "stdout",
     "output_type": "stream",
     "text": [
      "1\n",
      "2\n",
      "3\n",
      "4\n",
      "5\n",
      "6\n",
      "7\n",
      "8\n",
      "9\n",
      "10\n"
     ]
    }
   ],
   "source": [
    "i=1\n",
    "for i in range(1,11):\n",
    "    print(i)"
   ]
  },
  {
   "cell_type": "code",
   "execution_count": 2,
   "id": "e8018fa1",
   "metadata": {},
   "outputs": [
    {
     "name": "stdout",
     "output_type": "stream",
     "text": [
      "1 2 3 4 5 6 7 8 9 10 "
     ]
    }
   ],
   "source": [
    "i=1\n",
    "while i<=10:\n",
    "    print(i, end=\" \")\n",
    "    i+=1"
   ]
  },
  {
   "cell_type": "raw",
   "id": "ee40f889",
   "metadata": {},
   "source": [
    "Q13. If you had a function named bacon() inside a module named spam, how would you call it after\n",
    "importing spam?\n",
    "\n",
    "Ans:This function can be called with spam.bacon()"
   ]
  }
 ],
 "metadata": {
  "kernelspec": {
   "display_name": "Python 3 (ipykernel)",
   "language": "python",
   "name": "python3"
  },
  "language_info": {
   "codemirror_mode": {
    "name": "ipython",
    "version": 3
   },
   "file_extension": ".py",
   "mimetype": "text/x-python",
   "name": "python",
   "nbconvert_exporter": "python",
   "pygments_lexer": "ipython3",
   "version": "3.9.7"
  }
 },
 "nbformat": 4,
 "nbformat_minor": 5
}
