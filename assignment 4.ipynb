{
 "cells": [
  {
   "cell_type": "raw",
   "id": "7befafc0",
   "metadata": {},
   "source": [
    "Q1. What exactly is []?\n",
    "Ans: The empty list represented by [] is a list that contains no items. This is similar to '' which represents an empty string"
   ]
  },
  {
   "cell_type": "raw",
   "id": "6dec9130",
   "metadata": {},
   "source": [
    "Q2. In a list of values stored in a variable called spam, how would you assign the value &#39;hello&#39; as the\n",
    "third value? (Assume [2, 4, 6, 8, 10] are in spam.)\n",
    "Ans: spam[2]='hello'"
   ]
  },
  {
   "cell_type": "code",
   "execution_count": 7,
   "id": "7cfe8914",
   "metadata": {},
   "outputs": [
    {
     "name": "stdout",
     "output_type": "stream",
     "text": [
      "[2, 4, 6, 8, 10]\n",
      "[2, 4, 'hello', 8, 10]\n"
     ]
    }
   ],
   "source": [
    "spam=[2,4,6,8,10]\n",
    "print(spam)\n",
    "spam[2]=\"hello\"\n",
    "print(spam)"
   ]
  },
  {
   "cell_type": "raw",
   "id": "5d0ad078",
   "metadata": {},
   "source": [
    "Q3. What is the value of spam[int(int(&#39;3&#39; * 2) / 11)]?\n",
    "Ans: let's assume spam=['a','b','c','d']"
   ]
  },
  {
   "cell_type": "code",
   "execution_count": 10,
   "id": "3b85e87a",
   "metadata": {},
   "outputs": [
    {
     "name": "stdout",
     "output_type": "stream",
     "text": [
      "spam[int(int('3'*2)//11)] -> d\n"
     ]
    }
   ],
   "source": [
    "spam=['a','b','c','d']\n",
    "print(\"spam[int(int('3'*2)//11)] ->\",spam[int(int('3'*2)//11)])"
   ]
  },
  {
   "cell_type": "raw",
   "id": "7b92f720",
   "metadata": {},
   "source": [
    "Q4. What is the value of spam[-1]?\n",
    "Ans: d"
   ]
  },
  {
   "cell_type": "code",
   "execution_count": 18,
   "id": "289ed55e",
   "metadata": {},
   "outputs": [
    {
     "data": {
      "text/plain": [
       "'d'"
      ]
     },
     "execution_count": 18,
     "metadata": {},
     "output_type": "execute_result"
    }
   ],
   "source": [
    "spam[-1]"
   ]
  },
  {
   "cell_type": "raw",
   "id": "2bc61222",
   "metadata": {},
   "source": [
    "Q5. What is the value of spam[:2]?\n",
    "Ans: "
   ]
  },
  {
   "cell_type": "code",
   "execution_count": 12,
   "id": "4da498f0",
   "metadata": {},
   "outputs": [
    {
     "data": {
      "text/plain": [
       "['a', 'b']"
      ]
     },
     "execution_count": 12,
     "metadata": {},
     "output_type": "execute_result"
    }
   ],
   "source": [
    "spam[:2]"
   ]
  },
  {
   "cell_type": "raw",
   "id": "688ba18b",
   "metadata": {},
   "source": [
    "Q6. What is the value of bacon.index(&#39;cat&#39;)?\n",
    " Ans:                                    "
   ]
  },
  {
   "cell_type": "code",
   "execution_count": 13,
   "id": "03fd72f0",
   "metadata": {},
   "outputs": [
    {
     "name": "stdout",
     "output_type": "stream",
     "text": [
      "1\n"
     ]
    }
   ],
   "source": [
    "bacon=[3.14,'cat',11,'cat','True']\n",
    "print(bacon.index('cat'))"
   ]
  },
  {
   "cell_type": "code",
   "execution_count": 17,
   "id": "a31df8c3",
   "metadata": {},
   "outputs": [
    {
     "name": "stdout",
     "output_type": "stream",
     "text": [
      "4\n"
     ]
    }
   ],
   "source": [
    "print(bacon.index('True'))"
   ]
  },
  {
   "cell_type": "raw",
   "id": "8e11a484",
   "metadata": {},
   "source": [
    "Q7. How does bacon.append(99) change the look of the list value in bacon?\n",
    "Ans: "
   ]
  },
  {
   "cell_type": "code",
   "execution_count": 25,
   "id": "6b8fbc12",
   "metadata": {},
   "outputs": [
    {
     "name": "stdout",
     "output_type": "stream",
     "text": [
      "[3.14, 'cat', 11, 'cat', 'True', 99]\n"
     ]
    }
   ],
   "source": [
    "print(bacon)"
   ]
  },
  {
   "cell_type": "raw",
   "id": "969ed007",
   "metadata": {},
   "source": [
    "Q8. How does bacon.remove(&#39;cat&#39;) change the look of the list in bacon?\n",
    "Ans: [3.14, 11, 'True', 99]                         "
   ]
  },
  {
   "cell_type": "code",
   "execution_count": 26,
   "id": "b8b3abdb",
   "metadata": {},
   "outputs": [
    {
     "name": "stdout",
     "output_type": "stream",
     "text": [
      "[3.14, 'cat', 11, 'cat', 'True', 99]\n"
     ]
    }
   ],
   "source": [
    "print(bacon)"
   ]
  },
  {
   "cell_type": "code",
   "execution_count": 28,
   "id": "2cff2839",
   "metadata": {},
   "outputs": [
    {
     "name": "stdout",
     "output_type": "stream",
     "text": [
      "[3.14, 11, 'True', 99]\n"
     ]
    }
   ],
   "source": [
    "bacon.remove(\"cat\")\n",
    "print(bacon)"
   ]
  },
  {
   "cell_type": "raw",
   "id": "9cbd3841",
   "metadata": {},
   "source": [
    "Q9. What are the list concatenation and list replication operators?\n",
    "Ans: The operators for concatination of list is '+' for replication is '*' "
   ]
  },
  {
   "cell_type": "code",
   "execution_count": 29,
   "id": "b4eb4945",
   "metadata": {},
   "outputs": [],
   "source": [
    "list1=['a','b','c','d']\n",
    "list2=['aa','bb','ccc']"
   ]
  },
  {
   "cell_type": "code",
   "execution_count": 30,
   "id": "473ff410",
   "metadata": {},
   "outputs": [
    {
     "name": "stdout",
     "output_type": "stream",
     "text": [
      "['a', 'b', 'c', 'd', 'aa', 'bb', 'ccc']\n"
     ]
    }
   ],
   "source": [
    "print(list1+list2)"
   ]
  },
  {
   "cell_type": "code",
   "execution_count": 31,
   "id": "e930c232",
   "metadata": {},
   "outputs": [
    {
     "name": "stdout",
     "output_type": "stream",
     "text": [
      "['a', 'b', 'c', 'd', 'a', 'b', 'c', 'd']\n"
     ]
    }
   ],
   "source": [
    "print(list1*2)"
   ]
  },
  {
   "cell_type": "raw",
   "id": "8ef65713",
   "metadata": {},
   "source": [
    "Q10. What is difference between the list methods append() and insert()?\n",
    "Ans: While append() will add values only to the end of a list, insert() can add them anywhere in the list."
   ]
  },
  {
   "cell_type": "code",
   "execution_count": 34,
   "id": "cfed0372",
   "metadata": {},
   "outputs": [
    {
     "name": "stdout",
     "output_type": "stream",
     "text": [
      "[86, 54, 98, 54, 23, 9]\n",
      "[86, 54, 'liki', 98, 54, 23, 9]\n"
     ]
    }
   ],
   "source": [
    "list = [86,54,98,54,23]\n",
    "list.append(9)\n",
    "print(list)\n",
    "list.insert(2,'liki')\n",
    "print(list)"
   ]
  },
  {
   "cell_type": "raw",
   "id": "7bf97d9f",
   "metadata": {},
   "source": [
    "Q11. What are the two methods for removing items from a list?\n",
    "Ans: The del statement and the remove() method are two ways to remove values from a list"
   ]
  },
  {
   "cell_type": "raw",
   "id": "a62b067d",
   "metadata": {},
   "source": [
    "Q12. Describe how list values and string values are identical.\n",
    "Ans: Both lists and strings can be passed to len() function, have indexes and slices, be used in for loops, be concatenated or replicated, and be used with the in and not in operators."
   ]
  },
  {
   "cell_type": "raw",
   "id": "6e7b07fc",
   "metadata": {},
   "source": [
    "Q13. What&#39;s the difference between tuples and lists?\n",
    "Ans:  Lists are Mutable, Indexable and Slicable. they can have values added, removed, or changed. Tuples are Immutable but Indexable and Slicable. the tuple values cannot be changed at all. Also, tuples are represented using parentheses, (), while lists use the square brackets, []."
   ]
  },
  {
   "cell_type": "raw",
   "id": "a87d6a6d",
   "metadata": {},
   "source": [
    "Q14. How do you type a tuple value that only contains the integer 42?\n",
    "Ans: (42,) (The trailing comma is mandatory. otherwise its considered as a integer by python Interpreter)."
   ]
  },
  {
   "cell_type": "code",
   "execution_count": 36,
   "id": "cb53b1e7",
   "metadata": {},
   "outputs": [
    {
     "name": "stdout",
     "output_type": "stream",
     "text": [
      "<class 'int'>\n",
      "<class 'tuple'>\n"
     ]
    }
   ],
   "source": [
    "tuple1=(42)\n",
    "tuple2=(42,)\n",
    "print(type(tuple1))\n",
    "print(type(tuple2))"
   ]
  },
  {
   "cell_type": "raw",
   "id": "069925ad",
   "metadata": {},
   "source": [
    "Q15. How do you get a list value&#39;s tuple form? How do you get a tuple value&#39;s list form?\n",
    "Ans: The tuple() and list() functions, respectively are used to convert a list to tuple and vice versa"
   ]
  },
  {
   "cell_type": "raw",
   "id": "654b1de4",
   "metadata": {},
   "source": [
    "Q16. Variables that &quot;contain&quot; list values are not necessarily lists themselves. Instead, what do they\n",
    "contain?\n",
    "Ans:  They contain references to list values."
   ]
  },
  {
   "cell_type": "raw",
   "id": "3dfc1400",
   "metadata": {},
   "source": [
    "Q17. How do you distinguish between copy.copy() and copy.deepcopy()?\n",
    "Ans: The copy.copy() function will do a shallow copy of a list, while the copy.deepcopy() function will do a deep copy of a list. That is, only copy.deepcopy() will duplicate any lists inside the list."
   ]
  }
 ],
 "metadata": {
  "kernelspec": {
   "display_name": "Python 3 (ipykernel)",
   "language": "python",
   "name": "python3"
  },
  "language_info": {
   "codemirror_mode": {
    "name": "ipython",
    "version": 3
   },
   "file_extension": ".py",
   "mimetype": "text/x-python",
   "name": "python",
   "nbconvert_exporter": "python",
   "pygments_lexer": "ipython3",
   "version": "3.9.7"
  }
 },
 "nbformat": 4,
 "nbformat_minor": 5
}
